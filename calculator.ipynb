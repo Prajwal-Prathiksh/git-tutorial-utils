{
 "cells": [
  {
   "cell_type": "code",
   "execution_count": 2,
   "metadata": {},
   "outputs": [
    {
     "name": "stdout",
     "output_type": "stream",
     "text": [
      "5 + 2 = 7\n",
      "5 - 2 = 3\n",
      "5 * 2 = 10\n",
      "5 / 2 = 2.5\n"
     ]
    }
   ],
   "source": [
    "from src.arithmetic import add, divide, multiply, subtract\n",
    "\n",
    "a, b = 5, 2\n",
    "print(f\"{a} + {b} = {add(a, b)}\")\n",
    "print(f\"{a} - {b} = {subtract(a, b)}\")\n",
    "print(f\"{a} * {b} = {multiply(a, b)}\")\n",
    "print(f\"{a} / {b} = {divide(a, b)}\")"
   ]
  }
 ],
 "metadata": {
  "kernelspec": {
   "display_name": "Python 3",
   "language": "python",
   "name": "python3"
  },
  "language_info": {
   "codemirror_mode": {
    "name": "ipython",
    "version": 3
   },
   "file_extension": ".py",
   "mimetype": "text/x-python",
   "name": "python",
   "nbconvert_exporter": "python",
   "pygments_lexer": "ipython3",
   "version": "3.12.4"
  }
 },
 "nbformat": 4,
 "nbformat_minor": 2
}
